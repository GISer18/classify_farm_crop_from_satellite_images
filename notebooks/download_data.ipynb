{
 "cells": [
  {
   "cell_type": "code",
   "execution_count": 5,
   "metadata": {},
   "outputs": [],
   "source": [
    "import os\n",
    "import requests, zipfile, io\n",
    "from tqdm import tqdm"
   ]
  },
  {
   "cell_type": "code",
   "execution_count": 3,
   "metadata": {},
   "outputs": [],
   "source": [
    "zip_urls = [\n",
    "    'https://farmpinzindi.blob.core.windows.net/farmpinzindi/2017-01-01.zip',\n",
    "'https://farmpinzindi.blob.core.windows.net/farmpinzindi/2017-01-31.zip',\n",
    "'https://farmpinzindi.blob.core.windows.net/farmpinzindi/2017-02-10.zip',\n",
    "'https://farmpinzindi.blob.core.windows.net/farmpinzindi/2017-03-12.zip',\n",
    "'https://farmpinzindi.blob.core.windows.net/farmpinzindi/2017-03-22.zip',\n",
    "'https://farmpinzindi.blob.core.windows.net/farmpinzindi/2017-05-31.zip',\n",
    "'https://farmpinzindi.blob.core.windows.net/farmpinzindi/2017-06-20.zip',\n",
    "'https://farmpinzindi.blob.core.windows.net/farmpinzindi/2017-07-10.zip',\n",
    "'https://farmpinzindi.blob.core.windows.net/farmpinzindi/2017-08-19.zip',\n",
    "'https://farmpinzindi.blob.core.windows.net/farmpinzindi/2017-07-15.zip',\n",
    "'https://farmpinzindi.blob.core.windows.net/farmpinzindi/2017-08-04.zip',\n",
    "\n",
    "'https://farmpinzindi.blob.core.windows.net/farmpinzindiblobs/2017-01-01-JFP.zip',\n",
    "'https://farmpinzindi.blob.core.windows.net/farmpinzindiblobs/2017-01-31-JFP.zip',\n",
    "'https://farmpinzindi.blob.core.windows.net/farmpinzindiblobs/2017-02-10-JFP.zip',\n",
    "'https://farmpinzindi.blob.core.windows.net/farmpinzindiblobs/2017-03-12-JFP.zip',\n",
    "'https://farmpinzindi.blob.core.windows.net/farmpinzindiblobs/2017-03-22-JFP.zip',\n",
    "'https://farmpinzindi.blob.core.windows.net/farmpinzindiblobs/2017-05-31-JFP.zip',\n",
    "'https://farmpinzindi.blob.core.windows.net/farmpinzindiblobs/2017-06-20-JFP.zip',\n",
    "'https://farmpinzindi.blob.core.windows.net/farmpinzindiblobs/2017-07-10-JFP.zip',\n",
    "'https://farmpinzindi.blob.core.windows.net/farmpinzindiblobs/2017-07-15-JFP.zip',\n",
    "'https://farmpinzindi.blob.core.windows.net/farmpinzindiblobs/2017-08-04-JFP.zip',\n",
    "'https://farmpinzindi.blob.core.windows.net/farmpinzindiblobs/2017-08-19-JFP.zip',\n",
    "]"
   ]
  },
  {
   "cell_type": "code",
   "execution_count": 6,
   "metadata": {},
   "outputs": [
    {
     "name": "stderr",
     "output_type": "stream",
     "text": [
      "100%|██████████| 22/22 [16:22<00:00, 22.84s/it]\n"
     ]
    }
   ],
   "source": [
    "for url in tqdm(zip_urls):\n",
    "    r = requests.get(url)\n",
    "    z = zipfile.ZipFile(io.BytesIO(r.content))\n",
    "    z.extractall('data')\n"
   ]
  },
  {
   "cell_type": "code",
   "execution_count": null,
   "metadata": {},
   "outputs": [],
   "source": []
  }
 ],
 "metadata": {
  "kernelspec": {
   "display_name": "Python 3.5",
   "language": "python",
   "name": "python3"
  },
  "language_info": {
   "codemirror_mode": {
    "name": "ipython",
    "version": 3
   },
   "file_extension": ".py",
   "mimetype": "text/x-python",
   "name": "python",
   "nbconvert_exporter": "python",
   "pygments_lexer": "ipython3",
   "version": "3.5.5"
  }
 },
 "nbformat": 4,
 "nbformat_minor": 2
}
