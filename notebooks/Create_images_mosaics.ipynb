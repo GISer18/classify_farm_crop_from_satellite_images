{
 "cells": [
  {
   "cell_type": "markdown",
   "metadata": {},
   "source": [
    "### Import packages"
   ]
  },
  {
   "cell_type": "code",
   "execution_count": 2,
   "metadata": {
    "scrolled": true
   },
   "outputs": [
    {
     "name": "stdout",
     "output_type": "stream",
     "text": [
      "Collecting rasterio\n",
      "\u001b[?25l  Downloading https://files.pythonhosted.org/packages/8b/c0/68c086e5917704e2b04d7f03a103303adce00655f3101952676845ee34a1/rasterio-1.0.26-cp35-cp35m-manylinux1_x86_64.whl (15.0MB)\n",
      "\u001b[K     |████████████████████████████████| 15.0MB 4.4MB/s eta 0:00:01\n",
      "\u001b[?25hCollecting cligj>=0.5 (from rasterio)\n",
      "  Downloading https://files.pythonhosted.org/packages/e4/be/30a58b4b0733850280d01f8bd132591b4668ed5c7046761098d665ac2174/cligj-0.5.0-py3-none-any.whl\n",
      "Requirement already satisfied: numpy in /data/anaconda/envs/py35/lib/python3.5/site-packages (from rasterio) (1.15.0)\n",
      "Requirement already satisfied: click<8,>=4.0 in /data/anaconda/envs/py35/lib/python3.5/site-packages (from rasterio) (7.0)\n",
      "Requirement already satisfied: attrs in /data/anaconda/envs/py35/lib/python3.5/site-packages (from rasterio) (18.1.0)\n",
      "Collecting affine (from rasterio)\n",
      "  Downloading https://files.pythonhosted.org/packages/ac/a6/1a39a1ede71210e3ddaf623982b06ecfc5c5c03741ae659073159184cd3e/affine-2.3.0-py2.py3-none-any.whl\n",
      "Collecting snuggs>=1.4.1 (from rasterio)\n",
      "  Downloading https://files.pythonhosted.org/packages/58/14/8e90b7586ab6929861161e73e9fd55637a060e4d14dd1be14a4b8a08751f/snuggs-1.4.6-py3-none-any.whl\n",
      "Collecting click-plugins (from rasterio)\n",
      "  Downloading https://files.pythonhosted.org/packages/e9/da/824b92d9942f4e472702488857914bdd50f73021efea15b4cad9aca8ecef/click_plugins-1.1.1-py2.py3-none-any.whl\n",
      "Requirement already satisfied: pyparsing>=2.1.6 in /data/anaconda/envs/py35/lib/python3.5/site-packages (from snuggs>=1.4.1->rasterio) (2.2.0)\n",
      "Installing collected packages: cligj, affine, snuggs, click-plugins, rasterio\n",
      "Successfully installed affine-2.3.0 click-plugins-1.1.1 cligj-0.5.0 rasterio-1.0.26 snuggs-1.4.6\n",
      "\u001b[33mWARNING: You are using pip version 19.2.2, however version 19.2.3 is available.\n",
      "You should consider upgrading via the 'pip install --upgrade pip' command.\u001b[0m\n"
     ]
    }
   ],
   "source": [
    "!pip install rasterio"
   ]
  },
  {
   "cell_type": "code",
   "execution_count": 3,
   "metadata": {},
   "outputs": [
    {
     "name": "stdout",
     "output_type": "stream",
     "text": [
      "Collecting tqdm==4.33.0\n",
      "\u001b[?25l  Downloading https://files.pythonhosted.org/packages/02/56/60a5b1c2e634d8e4ff89c7bab47645604e19658f448050a21facffd43796/tqdm-4.33.0-py2.py3-none-any.whl (50kB)\n",
      "\u001b[K     |████████████████████████████████| 51kB 3.1MB/s eta 0:00:011\n",
      "\u001b[?25hInstalling collected packages: tqdm\n",
      "  Found existing installation: tqdm 4.31.1\n",
      "    Uninstalling tqdm-4.31.1:\n",
      "      Successfully uninstalled tqdm-4.31.1\n",
      "Successfully installed tqdm-4.33.0\n",
      "\u001b[33mWARNING: You are using pip version 19.2.2, however version 19.2.3 is available.\n",
      "You should consider upgrading via the 'pip install --upgrade pip' command.\u001b[0m\n"
     ]
    }
   ],
   "source": [
    "!pip install tqdm==4.33.0"
   ]
  },
  {
   "cell_type": "code",
   "execution_count": 4,
   "metadata": {
    "scrolled": true
   },
   "outputs": [
    {
     "name": "stdout",
     "output_type": "stream",
     "text": [
      "Name: tqdm\r\n",
      "Version: 4.33.0\r\n",
      "Summary: Fast, Extensible Progress Meter\r\n",
      "Home-page: https://github.com/tqdm/tqdm\r\n",
      "Author: None\r\n",
      "Author-email: None\r\n",
      "License: MPLv2.0, MIT Licences\r\n",
      "Location: /data/anaconda/envs/py35/lib/python3.5/site-packages\r\n",
      "Requires: \r\n",
      "Required-by: twine\r\n"
     ]
    }
   ],
   "source": [
    "!pip show tqdm"
   ]
  },
  {
   "cell_type": "code",
   "execution_count": 6,
   "metadata": {},
   "outputs": [
    {
     "name": "stdout",
     "output_type": "stream",
     "text": [
      "Collecting geopandas\n",
      "\u001b[?25l  Downloading https://files.pythonhosted.org/packages/21/80/da2a33c9201cd4ce693f4aa6189efc9ef1a48bec1c3b02c3ce9908b07fec/geopandas-0.5.1-py2.py3-none-any.whl (893kB)\n",
      "\u001b[K     |████████████████████████████████| 901kB 4.5MB/s eta 0:00:01\n",
      "\u001b[?25hRequirement already satisfied: pandas in /data/anaconda/envs/py35/lib/python3.5/site-packages (from geopandas) (0.23.0)\n",
      "Collecting fiona (from geopandas)\n",
      "\u001b[?25l  Downloading https://files.pythonhosted.org/packages/4f/e2/841f27ccf7a00095c251554642025f64c44fbe2a121b2f33a76e9fbff2b2/Fiona-1.8.6-cp35-cp35m-manylinux1_x86_64.whl (17.8MB)\n",
      "\u001b[K     |████████████████████████████████| 17.9MB 21.9MB/s eta 0:00:01\n",
      "\u001b[?25hCollecting shapely (from geopandas)\n",
      "\u001b[?25l  Downloading https://files.pythonhosted.org/packages/a2/6c/966fa320a88fc685c956af08135855fa84a1589631256abebf73721c26ed/Shapely-1.6.4.post2-cp35-cp35m-manylinux1_x86_64.whl (1.5MB)\n",
      "\u001b[K     |████████████████████████████████| 1.5MB 29.9MB/s eta 0:00:01\n",
      "\u001b[?25hCollecting pyproj (from geopandas)\n",
      "\u001b[?25l  Downloading https://files.pythonhosted.org/packages/31/cc/de1deb7409243b909beb6677213bb45f099887bdadd251fbcae835ca50ec/pyproj-2.3.1-cp35-cp35m-manylinux1_x86_64.whl (9.8MB)\n",
      "\u001b[K     |████████████████████████████████| 9.8MB 29.0MB/s eta 0:00:01\n",
      "\u001b[?25hRequirement already satisfied: python-dateutil>=2.5.0 in /data/anaconda/envs/py35/lib/python3.5/site-packages (from pandas->geopandas) (2.7.5)\n",
      "Requirement already satisfied: pytz>=2011k in /data/anaconda/envs/py35/lib/python3.5/site-packages (from pandas->geopandas) (2018.4)\n",
      "Requirement already satisfied: numpy>=1.9.0 in /data/anaconda/envs/py35/lib/python3.5/site-packages (from pandas->geopandas) (1.15.0)\n",
      "Requirement already satisfied: six>=1.7 in /data/anaconda/envs/py35/lib/python3.5/site-packages (from fiona->geopandas) (1.11.0)\n",
      "Requirement already satisfied: cligj>=0.5 in /data/anaconda/envs/py35/lib/python3.5/site-packages (from fiona->geopandas) (0.5.0)\n",
      "Requirement already satisfied: click<8,>=4.0 in /data/anaconda/envs/py35/lib/python3.5/site-packages (from fiona->geopandas) (7.0)\n",
      "Collecting munch (from fiona->geopandas)\n",
      "  Downloading https://files.pythonhosted.org/packages/68/f4/260ec98ea840757a0da09e0ed8135333d59b8dfebe9752a365b04857660a/munch-2.3.2.tar.gz\n",
      "Requirement already satisfied: click-plugins>=1.0 in /data/anaconda/envs/py35/lib/python3.5/site-packages (from fiona->geopandas) (1.1.1)\n",
      "Requirement already satisfied: attrs>=17 in /data/anaconda/envs/py35/lib/python3.5/site-packages (from fiona->geopandas) (18.1.0)\n",
      "Building wheels for collected packages: munch\n",
      "  Building wheel for munch (setup.py) ... \u001b[?25ldone\n",
      "\u001b[?25h  Created wheel for munch: filename=munch-2.3.2-py2.py3-none-any.whl size=5793 sha256=06d60ffe5065038a7f371b526c167cd6e19e74cfbd33dbf4d4bb3435a5c1b0e6\n",
      "  Stored in directory: /home/firou1925/.cache/pip/wheels/db/bf/bc/06a3e1bfe0ab27d2e720ceb3cff3159398d92644c0cec2c125\n",
      "Successfully built munch\n",
      "Installing collected packages: munch, fiona, shapely, pyproj, geopandas\n",
      "Successfully installed fiona-1.8.6 geopandas-0.5.1 munch-2.3.2 pyproj-2.3.1 shapely-1.6.4.post2\n",
      "\u001b[33mWARNING: You are using pip version 19.2.2, however version 19.2.3 is available.\n",
      "You should consider upgrading via the 'pip install --upgrade pip' command.\u001b[0m\n"
     ]
    }
   ],
   "source": [
    "!pip install geopandas"
   ]
  },
  {
   "cell_type": "code",
   "execution_count": 7,
   "metadata": {},
   "outputs": [],
   "source": [
    "import os\n",
    "import requests, zipfile, io\n",
    "import numpy as np # linear algebra\n",
    "import pandas as pd\n",
    "\n",
    "import rasterio\n",
    "from rasterio.plot import show\n",
    "from rasterio.plot import show_hist\n",
    "import matplotlib.pyplot as plt        \n",
    "%matplotlib inline\n",
    "from matplotlib.pyplot import imshow\n",
    "from scipy import stats\n",
    "from rasterio.merge import merge\n",
    "import geopandas as gpd\n",
    "from rasterio.mask import mask\n",
    "from rasterio.plot import adjust_band\n",
    "from rasterio.plot import reshape_as_raster, reshape_as_image\n",
    "from shapely.geometry import mapping\n",
    "import sys\n",
    "from tqdm import tqdm\n",
    "tqdm.pandas()\n",
    "import gc\n",
    "import psutil\n",
    "\n",
    "from queue import PriorityQueue"
   ]
  },
  {
   "cell_type": "markdown",
   "metadata": {},
   "source": [
    "## Import shapefiles"
   ]
  },
  {
   "cell_type": "code",
   "execution_count": 19,
   "metadata": {},
   "outputs": [
    {
     "data": {
      "text/plain": [
       "['test.dbf',\n",
       " '.ipynb_checkpoints',\n",
       " 'test.shp',\n",
       " 'test.cpg',\n",
       " 'test.prj',\n",
       " 'test.shx',\n",
       " 'test.qpj']"
      ]
     },
     "execution_count": 19,
     "metadata": {},
     "output_type": "execute_result"
    }
   ],
   "source": [
    "os.listdir('data/test')"
   ]
  },
  {
   "cell_type": "code",
   "execution_count": 22,
   "metadata": {},
   "outputs": [],
   "source": [
    "train = gpd.read_file('data/train/train.shp')\n",
    "train.dropna(subset=['geometry'], inplace = True)\n",
    "train.reset_index(drop=True, inplace= True)\n",
    "test = gpd.read_file('data/test/test.shp')\n",
    "sample_sub = pd.read_csv('data/sample_submission.csv')\n",
    "\n",
    "train_fe = train.copy()\n",
    "test_fe = test.copy()"
   ]
  },
  {
   "cell_type": "code",
   "execution_count": 21,
   "metadata": {},
   "outputs": [
    {
     "data": {
      "text/html": [
       "<div>\n",
       "<style scoped>\n",
       "    .dataframe tbody tr th:only-of-type {\n",
       "        vertical-align: middle;\n",
       "    }\n",
       "\n",
       "    .dataframe tbody tr th {\n",
       "        vertical-align: top;\n",
       "    }\n",
       "\n",
       "    .dataframe thead th {\n",
       "        text-align: right;\n",
       "    }\n",
       "</style>\n",
       "<table border=\"1\" class=\"dataframe\">\n",
       "  <thead>\n",
       "    <tr style=\"text-align: right;\">\n",
       "      <th></th>\n",
       "      <th>Field_Id</th>\n",
       "      <th>Area</th>\n",
       "      <th>Subregion</th>\n",
       "      <th>Crop_Id_Ne</th>\n",
       "      <th>geometry</th>\n",
       "    </tr>\n",
       "  </thead>\n",
       "  <tbody>\n",
       "    <tr>\n",
       "      <th>0</th>\n",
       "      <td>1</td>\n",
       "      <td>0.915905</td>\n",
       "      <td>3</td>\n",
       "      <td>8</td>\n",
       "      <td>POLYGON ((2467881.175041331 -3352032.059296422...</td>\n",
       "    </tr>\n",
       "    <tr>\n",
       "      <th>1</th>\n",
       "      <td>2</td>\n",
       "      <td>2.064410</td>\n",
       "      <td>3</td>\n",
       "      <td>6</td>\n",
       "      <td>POLYGON ((2468428.90623293 -3351993.17305059, ...</td>\n",
       "    </tr>\n",
       "    <tr>\n",
       "      <th>2</th>\n",
       "      <td>3</td>\n",
       "      <td>1.080300</td>\n",
       "      <td>3</td>\n",
       "      <td>8</td>\n",
       "      <td>POLYGON ((2468333.745293362 -3352058.485056543...</td>\n",
       "    </tr>\n",
       "    <tr>\n",
       "      <th>3</th>\n",
       "      <td>4</td>\n",
       "      <td>1.316190</td>\n",
       "      <td>3</td>\n",
       "      <td>8</td>\n",
       "      <td>POLYGON ((2468607.857733211 -3352012.337531495...</td>\n",
       "    </tr>\n",
       "    <tr>\n",
       "      <th>4</th>\n",
       "      <td>7</td>\n",
       "      <td>5.529220</td>\n",
       "      <td>3</td>\n",
       "      <td>8</td>\n",
       "      <td>POLYGON ((2468646.08520868 -3351706.201920062,...</td>\n",
       "    </tr>\n",
       "  </tbody>\n",
       "</table>\n",
       "</div>"
      ],
      "text/plain": [
       "   Field_Id      Area  Subregion Crop_Id_Ne  \\\n",
       "0         1  0.915905          3          8   \n",
       "1         2  2.064410          3          6   \n",
       "2         3  1.080300          3          8   \n",
       "3         4  1.316190          3          8   \n",
       "4         7  5.529220          3          8   \n",
       "\n",
       "                                            geometry  \n",
       "0  POLYGON ((2467881.175041331 -3352032.059296422...  \n",
       "1  POLYGON ((2468428.90623293 -3351993.17305059, ...  \n",
       "2  POLYGON ((2468333.745293362 -3352058.485056543...  \n",
       "3  POLYGON ((2468607.857733211 -3352012.337531495...  \n",
       "4  POLYGON ((2468646.08520868 -3351706.201920062,...  "
      ]
     },
     "execution_count": 21,
     "metadata": {},
     "output_type": "execute_result"
    }
   ],
   "source": [
    "train_fe.head()"
   ]
  },
  {
   "cell_type": "markdown",
   "metadata": {},
   "source": [
    "### Folder names"
   ]
  },
  {
   "cell_type": "code",
   "execution_count": 8,
   "metadata": {},
   "outputs": [],
   "source": [
    "date1 = '2017-01-01'\n",
    "date2 = \"2017-01-31\"\n",
    "date3 = \"2017-02-10\"\n",
    "date4 = \"2017-03-12\"\n",
    "date5 = \"2017-03-22\"\n",
    "date6 = \"2017-05-31\"\n",
    "date7 = \"2017-06-20\"\n",
    "date8 = \"2017-07-10\"\n",
    "date9 = \"2017-07-15\"\n",
    "date10 = \"2017-08-04\"\n",
    "date11 = \"2017-08-19\""
   ]
  },
  {
   "cell_type": "code",
   "execution_count": 12,
   "metadata": {},
   "outputs": [],
   "source": [
    "date1_pf1 = 'S2A_MSIL1C_20170101T082332_N0204_R121_T34JEP_20170101T084543.SAFE'\n",
    "date1_pf2 = 'S2A_MSIL1C_20170101T082332_N0204_R121_T34JFP_20170101T084543.SAFE'\n",
    "\n",
    "date2_pf1 = 'S2A_MSIL1C_20170131T082151_N0204_R121_T34JEP_20170131T084118.SAFE'\n",
    "date2_pf2 = 'S2A_MSIL1C_20170131T082151_N0204_R121_T34JFP_20170131T084118.SAFE'\n",
    "\n",
    "date3_pf1 = 'S2A_MSIL1C_20170210T082051_N0204_R121_T34JEP_20170210T083752.SAFE'\n",
    "date3_pf2 = 'S2A_MSIL1C_20170210T082051_N0204_R121_T34JFP_20170210T083752.SAFE'\n",
    "\n",
    "date4_pf1 = 'S2A_MSIL1C_20170312T082001_N0204_R121_T34JEP_20170312T084235.SAFE '\n",
    "date4_pf2 = 'S2A_MSIL1C_20170312T082001_N0204_R121_T34JFP_20170312T084235.SAFE'\n",
    "\n",
    "date5_pf1 = 'S2A_MSIL1C_20170322T081611_N0204_R121_T34JEP_20170322T084728.SAFE'\n",
    "date5_pf2 = 'S2A_MSIL1C_20170322T081611_N0204_R121_T34JFP_20170322T084728.SAFE'\n",
    "\n",
    "date6_pf1 = 'S2A_MSIL1C_20170531T082011_N0205_R121_T34JEP_20170531T084246.SAFE'\n",
    "date6_pf2 = 'S2A_MSIL1C_20170531T082011_N0205_R121_T34JFP_20170531T084246.SAFE'\n",
    "\n",
    "date7_pf1 = 'S2A_MSIL1C_20170620T082011_N0205_R121_T34JEP_20170620T084200.SAFE'\n",
    "date7_pf2 = 'S2A_MSIL1C_20170620T082011_N0205_R121_T34JFP_20170620T084200.SAFE'\n",
    "\n",
    "date8_pf1 = 'S2A_MSIL1C_20170710T082011_N0205_R121_T34JEP_20170710T084244.SAFE'\n",
    "date8_pf2 = 'S2A_MSIL1C_20170710T082011_N0205_R121_T34JFP_20170710T084244.SAFE'\n",
    "\n",
    "date9_pf1 = 'S2B_MSIL1C_20170715T081609_N0205_R121_T34JEP_20170715T084650.SAFE'\n",
    "date9_pf2 = 'S2B_MSIL1C_20170715T081609_N0205_R121_T34JFP_20170715T084650.SAFE'\n",
    "\n",
    "date10_pf1 = 'S2B_MSIL1C_20170804T081559_N0205_R121_T34JEP_20170804T084631.SAFE'\n",
    "date10_pf2 = 'S2B_MSIL1C_20170804T081559_N0205_R121_T34JFP_20170804T084631.SAFE'\n",
    "\n",
    "date11_pf1 = 'S2A_MSIL1C_20170819T082011_N0205_R121_T34JEP_20170819T084427.SAFE'\n",
    "date11_pf2 = 'S2A_MSIL1C_20170819T082011_N0205_R121_T34JFP_20170819T084427.SAFE'"
   ]
  },
  {
   "cell_type": "code",
   "execution_count": 17,
   "metadata": {},
   "outputs": [
    {
     "name": "stdout",
     "output_type": "stream",
     "text": [
      "data/S2A_MSIL1C_20170101T082332_N0204_R121_T34JEP_20170101T084543.SAFE/INSPIRE.xml\n",
      "data/S2A_MSIL1C_20170101T082332_N0204_R121_T34JEP_20170101T084543.SAFE/manifest.safe\n",
      "data/S2A_MSIL1C_20170101T082332_N0204_R121_T34JEP_20170101T084543.SAFE/MTD_MSIL1C.xml\n",
      "data/S2A_MSIL1C_20170101T082332_N0204_R121_T34JEP_20170101T084543.SAFE/rep_info/S2_User_Product_Level-1C_Metadata.xsd\n",
      "data/S2A_MSIL1C_20170101T082332_N0204_R121_T34JEP_20170101T084543.SAFE/DATASTRIP/DS_MTI__20170103T030708_S20170101T084543/MTD_DS.xml\n",
      "data/S2A_MSIL1C_20170101T082332_N0204_R121_T34JEP_20170101T084543.SAFE/HTML/star_bg.jpg\n",
      "data/S2A_MSIL1C_20170101T082332_N0204_R121_T34JEP_20170101T084543.SAFE/HTML/UserProduct_index.xsl\n",
      "data/S2A_MSIL1C_20170101T082332_N0204_R121_T34JEP_20170101T084543.SAFE/HTML/UserProduct_index.html\n",
      "data/S2A_MSIL1C_20170101T082332_N0204_R121_T34JEP_20170101T084543.SAFE/HTML/banner_3.png\n",
      "data/S2A_MSIL1C_20170101T082332_N0204_R121_T34JEP_20170101T084543.SAFE/HTML/banner_2.png\n",
      "data/S2A_MSIL1C_20170101T082332_N0204_R121_T34JEP_20170101T084543.SAFE/HTML/banner_1.png\n",
      "data/S2A_MSIL1C_20170101T082332_N0204_R121_T34JEP_20170101T084543.SAFE/GRANULE/L1C_T34JEP_A007983_20170101T084543/MTD_TL.xml\n",
      "data/S2A_MSIL1C_20170101T082332_N0204_R121_T34JEP_20170101T084543.SAFE/GRANULE/L1C_T34JEP_A007983_20170101T084543/AUX_DATA/AUX_ECMWFT\n",
      "data/S2A_MSIL1C_20170101T082332_N0204_R121_T34JEP_20170101T084543.SAFE/GRANULE/L1C_T34JEP_A007983_20170101T084543/QI_DATA/MSK_DETFOO_B12.gml\n",
      "data/S2A_MSIL1C_20170101T082332_N0204_R121_T34JEP_20170101T084543.SAFE/GRANULE/L1C_T34JEP_A007983_20170101T084543/QI_DATA/MSK_DEFECT_B08.gml\n",
      "data/S2A_MSIL1C_20170101T082332_N0204_R121_T34JEP_20170101T084543.SAFE/GRANULE/L1C_T34JEP_A007983_20170101T084543/QI_DATA/MSK_NODATA_B01.gml\n",
      "data/S2A_MSIL1C_20170101T082332_N0204_R121_T34JEP_20170101T084543.SAFE/GRANULE/L1C_T34JEP_A007983_20170101T084543/QI_DATA/MSK_DETFOO_B05.gml\n",
      "data/S2A_MSIL1C_20170101T082332_N0204_R121_T34JEP_20170101T084543.SAFE/GRANULE/L1C_T34JEP_A007983_20170101T084543/QI_DATA/MSK_SATURA_B05.gml\n",
      "data/S2A_MSIL1C_20170101T082332_N0204_R121_T34JEP_20170101T084543.SAFE/GRANULE/L1C_T34JEP_A007983_20170101T084543/QI_DATA/MSK_DETFOO_B11.gml\n",
      "data/S2A_MSIL1C_20170101T082332_N0204_R121_T34JEP_20170101T084543.SAFE/GRANULE/L1C_T34JEP_A007983_20170101T084543/QI_DATA/MSK_SATURA_B10.gml\n",
      "data/S2A_MSIL1C_20170101T082332_N0204_R121_T34JEP_20170101T084543.SAFE/GRANULE/L1C_T34JEP_A007983_20170101T084543/QI_DATA/MSK_DETFOO_B06.gml\n",
      "data/S2A_MSIL1C_20170101T082332_N0204_R121_T34JEP_20170101T084543.SAFE/GRANULE/L1C_T34JEP_A007983_20170101T084543/QI_DATA/MSK_TECQUA_B8A.gml\n",
      "data/S2A_MSIL1C_20170101T082332_N0204_R121_T34JEP_20170101T084543.SAFE/GRANULE/L1C_T34JEP_A007983_20170101T084543/QI_DATA/MSK_SATURA_B08.gml\n",
      "data/S2A_MSIL1C_20170101T082332_N0204_R121_T34JEP_20170101T084543.SAFE/GRANULE/L1C_T34JEP_A007983_20170101T084543/QI_DATA/MSK_NODATA_B08.gml\n",
      "data/S2A_MSIL1C_20170101T082332_N0204_R121_T34JEP_20170101T084543.SAFE/GRANULE/L1C_T34JEP_A007983_20170101T084543/QI_DATA/MSK_TECQUA_B10.gml\n",
      "data/S2A_MSIL1C_20170101T082332_N0204_R121_T34JEP_20170101T084543.SAFE/GRANULE/L1C_T34JEP_A007983_20170101T084543/QI_DATA/MSK_TECQUA_B06.gml\n",
      "data/S2A_MSIL1C_20170101T082332_N0204_R121_T34JEP_20170101T084543.SAFE/GRANULE/L1C_T34JEP_A007983_20170101T084543/QI_DATA/MSK_DEFECT_B04.gml\n",
      "data/S2A_MSIL1C_20170101T082332_N0204_R121_T34JEP_20170101T084543.SAFE/GRANULE/L1C_T34JEP_A007983_20170101T084543/QI_DATA/MSK_TECQUA_B09.gml\n",
      "data/S2A_MSIL1C_20170101T082332_N0204_R121_T34JEP_20170101T084543.SAFE/GRANULE/L1C_T34JEP_A007983_20170101T084543/QI_DATA/MSK_CLOUDS_B00.gml\n",
      "data/S2A_MSIL1C_20170101T082332_N0204_R121_T34JEP_20170101T084543.SAFE/GRANULE/L1C_T34JEP_A007983_20170101T084543/QI_DATA/MSK_NODATA_B09.gml\n",
      "data/S2A_MSIL1C_20170101T082332_N0204_R121_T34JEP_20170101T084543.SAFE/GRANULE/L1C_T34JEP_A007983_20170101T084543/QI_DATA/MSK_DEFECT_B10.gml\n",
      "data/S2A_MSIL1C_20170101T082332_N0204_R121_T34JEP_20170101T084543.SAFE/GRANULE/L1C_T34JEP_A007983_20170101T084543/QI_DATA/MSK_NODATA_B07.gml\n",
      "data/S2A_MSIL1C_20170101T082332_N0204_R121_T34JEP_20170101T084543.SAFE/GRANULE/L1C_T34JEP_A007983_20170101T084543/QI_DATA/MSK_DETFOO_B08.gml\n",
      "data/S2A_MSIL1C_20170101T082332_N0204_R121_T34JEP_20170101T084543.SAFE/GRANULE/L1C_T34JEP_A007983_20170101T084543/QI_DATA/MSK_NODATA_B10.gml\n",
      "data/S2A_MSIL1C_20170101T082332_N0204_R121_T34JEP_20170101T084543.SAFE/GRANULE/L1C_T34JEP_A007983_20170101T084543/QI_DATA/MSK_DEFECT_B12.gml\n",
      "data/S2A_MSIL1C_20170101T082332_N0204_R121_T34JEP_20170101T084543.SAFE/GRANULE/L1C_T34JEP_A007983_20170101T084543/QI_DATA/MSK_DEFECT_B01.gml\n",
      "data/S2A_MSIL1C_20170101T082332_N0204_R121_T34JEP_20170101T084543.SAFE/GRANULE/L1C_T34JEP_A007983_20170101T084543/QI_DATA/MSK_SATURA_B04.gml\n",
      "data/S2A_MSIL1C_20170101T082332_N0204_R121_T34JEP_20170101T084543.SAFE/GRANULE/L1C_T34JEP_A007983_20170101T084543/QI_DATA/MSK_NODATA_B8A.gml\n",
      "data/S2A_MSIL1C_20170101T082332_N0204_R121_T34JEP_20170101T084543.SAFE/GRANULE/L1C_T34JEP_A007983_20170101T084543/QI_DATA/MSK_SATURA_B01.gml\n",
      "data/S2A_MSIL1C_20170101T082332_N0204_R121_T34JEP_20170101T084543.SAFE/GRANULE/L1C_T34JEP_A007983_20170101T084543/QI_DATA/MSK_DEFECT_B03.gml\n",
      "data/S2A_MSIL1C_20170101T082332_N0204_R121_T34JEP_20170101T084543.SAFE/GRANULE/L1C_T34JEP_A007983_20170101T084543/QI_DATA/MSK_DEFECT_B02.gml\n",
      "data/S2A_MSIL1C_20170101T082332_N0204_R121_T34JEP_20170101T084543.SAFE/GRANULE/L1C_T34JEP_A007983_20170101T084543/QI_DATA/MSK_SATURA_B06.gml\n",
      "data/S2A_MSIL1C_20170101T082332_N0204_R121_T34JEP_20170101T084543.SAFE/GRANULE/L1C_T34JEP_A007983_20170101T084543/QI_DATA/MSK_TECQUA_B12.gml\n",
      "data/S2A_MSIL1C_20170101T082332_N0204_R121_T34JEP_20170101T084543.SAFE/GRANULE/L1C_T34JEP_A007983_20170101T084543/QI_DATA/MSK_DEFECT_B09.gml\n",
      "data/S2A_MSIL1C_20170101T082332_N0204_R121_T34JEP_20170101T084543.SAFE/GRANULE/L1C_T34JEP_A007983_20170101T084543/QI_DATA/MSK_DETFOO_B09.gml\n",
      "data/S2A_MSIL1C_20170101T082332_N0204_R121_T34JEP_20170101T084543.SAFE/GRANULE/L1C_T34JEP_A007983_20170101T084543/QI_DATA/MSK_DETFOO_B07.gml\n",
      "data/S2A_MSIL1C_20170101T082332_N0204_R121_T34JEP_20170101T084543.SAFE/GRANULE/L1C_T34JEP_A007983_20170101T084543/QI_DATA/T34JEP_20170101T082332_PVI.jp2\n",
      "data/S2A_MSIL1C_20170101T082332_N0204_R121_T34JEP_20170101T084543.SAFE/GRANULE/L1C_T34JEP_A007983_20170101T084543/QI_DATA/MSK_DETFOO_B04.gml\n",
      "data/S2A_MSIL1C_20170101T082332_N0204_R121_T34JEP_20170101T084543.SAFE/GRANULE/L1C_T34JEP_A007983_20170101T084543/QI_DATA/MSK_SATURA_B8A.gml\n",
      "data/S2A_MSIL1C_20170101T082332_N0204_R121_T34JEP_20170101T084543.SAFE/GRANULE/L1C_T34JEP_A007983_20170101T084543/QI_DATA/MSK_DEFECT_B07.gml\n",
      "data/S2A_MSIL1C_20170101T082332_N0204_R121_T34JEP_20170101T084543.SAFE/GRANULE/L1C_T34JEP_A007983_20170101T084543/QI_DATA/MSK_TECQUA_B05.gml\n",
      "data/S2A_MSIL1C_20170101T082332_N0204_R121_T34JEP_20170101T084543.SAFE/GRANULE/L1C_T34JEP_A007983_20170101T084543/QI_DATA/MSK_TECQUA_B07.gml\n",
      "data/S2A_MSIL1C_20170101T082332_N0204_R121_T34JEP_20170101T084543.SAFE/GRANULE/L1C_T34JEP_A007983_20170101T084543/QI_DATA/MSK_NODATA_B11.gml\n",
      "data/S2A_MSIL1C_20170101T082332_N0204_R121_T34JEP_20170101T084543.SAFE/GRANULE/L1C_T34JEP_A007983_20170101T084543/QI_DATA/MSK_SATURA_B07.gml\n",
      "data/S2A_MSIL1C_20170101T082332_N0204_R121_T34JEP_20170101T084543.SAFE/GRANULE/L1C_T34JEP_A007983_20170101T084543/QI_DATA/MSK_DEFECT_B05.gml\n",
      "data/S2A_MSIL1C_20170101T082332_N0204_R121_T34JEP_20170101T084543.SAFE/GRANULE/L1C_T34JEP_A007983_20170101T084543/QI_DATA/MSK_DEFECT_B06.gml\n",
      "data/S2A_MSIL1C_20170101T082332_N0204_R121_T34JEP_20170101T084543.SAFE/GRANULE/L1C_T34JEP_A007983_20170101T084543/QI_DATA/MSK_TECQUA_B03.gml\n",
      "data/S2A_MSIL1C_20170101T082332_N0204_R121_T34JEP_20170101T084543.SAFE/GRANULE/L1C_T34JEP_A007983_20170101T084543/QI_DATA/MSK_SATURA_B12.gml\n",
      "data/S2A_MSIL1C_20170101T082332_N0204_R121_T34JEP_20170101T084543.SAFE/GRANULE/L1C_T34JEP_A007983_20170101T084543/QI_DATA/MSK_TECQUA_B11.gml\n",
      "data/S2A_MSIL1C_20170101T082332_N0204_R121_T34JEP_20170101T084543.SAFE/GRANULE/L1C_T34JEP_A007983_20170101T084543/QI_DATA/MSK_NODATA_B05.gml\n",
      "data/S2A_MSIL1C_20170101T082332_N0204_R121_T34JEP_20170101T084543.SAFE/GRANULE/L1C_T34JEP_A007983_20170101T084543/QI_DATA/MSK_DETFOO_B02.gml\n",
      "data/S2A_MSIL1C_20170101T082332_N0204_R121_T34JEP_20170101T084543.SAFE/GRANULE/L1C_T34JEP_A007983_20170101T084543/QI_DATA/MSK_SATURA_B02.gml\n",
      "data/S2A_MSIL1C_20170101T082332_N0204_R121_T34JEP_20170101T084543.SAFE/GRANULE/L1C_T34JEP_A007983_20170101T084543/QI_DATA/MSK_DETFOO_B01.gml\n",
      "data/S2A_MSIL1C_20170101T082332_N0204_R121_T34JEP_20170101T084543.SAFE/GRANULE/L1C_T34JEP_A007983_20170101T084543/QI_DATA/MSK_NODATA_B06.gml\n",
      "data/S2A_MSIL1C_20170101T082332_N0204_R121_T34JEP_20170101T084543.SAFE/GRANULE/L1C_T34JEP_A007983_20170101T084543/QI_DATA/MSK_SATURA_B11.gml\n",
      "data/S2A_MSIL1C_20170101T082332_N0204_R121_T34JEP_20170101T084543.SAFE/GRANULE/L1C_T34JEP_A007983_20170101T084543/QI_DATA/MSK_NODATA_B12.gml\n",
      "data/S2A_MSIL1C_20170101T082332_N0204_R121_T34JEP_20170101T084543.SAFE/GRANULE/L1C_T34JEP_A007983_20170101T084543/QI_DATA/MSK_TECQUA_B01.gml\n",
      "data/S2A_MSIL1C_20170101T082332_N0204_R121_T34JEP_20170101T084543.SAFE/GRANULE/L1C_T34JEP_A007983_20170101T084543/QI_DATA/MSK_DEFECT_B8A.gml\n",
      "data/S2A_MSIL1C_20170101T082332_N0204_R121_T34JEP_20170101T084543.SAFE/GRANULE/L1C_T34JEP_A007983_20170101T084543/QI_DATA/MSK_TECQUA_B04.gml\n",
      "data/S2A_MSIL1C_20170101T082332_N0204_R121_T34JEP_20170101T084543.SAFE/GRANULE/L1C_T34JEP_A007983_20170101T084543/QI_DATA/MSK_NODATA_B04.gml\n",
      "data/S2A_MSIL1C_20170101T082332_N0204_R121_T34JEP_20170101T084543.SAFE/GRANULE/L1C_T34JEP_A007983_20170101T084543/QI_DATA/MSK_TECQUA_B02.gml\n",
      "data/S2A_MSIL1C_20170101T082332_N0204_R121_T34JEP_20170101T084543.SAFE/GRANULE/L1C_T34JEP_A007983_20170101T084543/QI_DATA/MSK_NODATA_B02.gml\n",
      "data/S2A_MSIL1C_20170101T082332_N0204_R121_T34JEP_20170101T084543.SAFE/GRANULE/L1C_T34JEP_A007983_20170101T084543/QI_DATA/MSK_DETFOO_B8A.gml\n",
      "data/S2A_MSIL1C_20170101T082332_N0204_R121_T34JEP_20170101T084543.SAFE/GRANULE/L1C_T34JEP_A007983_20170101T084543/QI_DATA/MSK_DETFOO_B03.gml\n",
      "data/S2A_MSIL1C_20170101T082332_N0204_R121_T34JEP_20170101T084543.SAFE/GRANULE/L1C_T34JEP_A007983_20170101T084543/QI_DATA/MSK_TECQUA_B08.gml\n",
      "data/S2A_MSIL1C_20170101T082332_N0204_R121_T34JEP_20170101T084543.SAFE/GRANULE/L1C_T34JEP_A007983_20170101T084543/QI_DATA/MSK_SATURA_B09.gml\n",
      "data/S2A_MSIL1C_20170101T082332_N0204_R121_T34JEP_20170101T084543.SAFE/GRANULE/L1C_T34JEP_A007983_20170101T084543/QI_DATA/MSK_DEFECT_B11.gml\n",
      "data/S2A_MSIL1C_20170101T082332_N0204_R121_T34JEP_20170101T084543.SAFE/GRANULE/L1C_T34JEP_A007983_20170101T084543/QI_DATA/MSK_DETFOO_B10.gml\n",
      "data/S2A_MSIL1C_20170101T082332_N0204_R121_T34JEP_20170101T084543.SAFE/GRANULE/L1C_T34JEP_A007983_20170101T084543/QI_DATA/MSK_SATURA_B03.gml\n",
      "data/S2A_MSIL1C_20170101T082332_N0204_R121_T34JEP_20170101T084543.SAFE/GRANULE/L1C_T34JEP_A007983_20170101T084543/QI_DATA/MSK_NODATA_B03.gml\n",
      "data/S2A_MSIL1C_20170101T082332_N0204_R121_T34JEP_20170101T084543.SAFE/GRANULE/L1C_T34JEP_A007983_20170101T084543/IMG_DATA/T34JEP_20170101T082332_B04.jp2\n",
      "data/S2A_MSIL1C_20170101T082332_N0204_R121_T34JEP_20170101T084543.SAFE/GRANULE/L1C_T34JEP_A007983_20170101T084543/IMG_DATA/T34JEP_20170101T082332_B01.jp2\n",
      "data/S2A_MSIL1C_20170101T082332_N0204_R121_T34JEP_20170101T084543.SAFE/GRANULE/L1C_T34JEP_A007983_20170101T084543/IMG_DATA/T34JEP_20170101T082332_B05.jp2\n",
      "data/S2A_MSIL1C_20170101T082332_N0204_R121_T34JEP_20170101T084543.SAFE/GRANULE/L1C_T34JEP_A007983_20170101T084543/IMG_DATA/T34JEP_20170101T082332_B09.jp2\n",
      "data/S2A_MSIL1C_20170101T082332_N0204_R121_T34JEP_20170101T084543.SAFE/GRANULE/L1C_T34JEP_A007983_20170101T084543/IMG_DATA/T34JEP_20170101T082332_B07.jp2\n",
      "data/S2A_MSIL1C_20170101T082332_N0204_R121_T34JEP_20170101T084543.SAFE/GRANULE/L1C_T34JEP_A007983_20170101T084543/IMG_DATA/T34JEP_20170101T082332_B12.jp2\n",
      "data/S2A_MSIL1C_20170101T082332_N0204_R121_T34JEP_20170101T084543.SAFE/GRANULE/L1C_T34JEP_A007983_20170101T084543/IMG_DATA/T34JEP_20170101T082332_B11.jp2\n",
      "data/S2A_MSIL1C_20170101T082332_N0204_R121_T34JEP_20170101T084543.SAFE/GRANULE/L1C_T34JEP_A007983_20170101T084543/IMG_DATA/T34JEP_20170101T082332_B02.jp2\n",
      "data/S2A_MSIL1C_20170101T082332_N0204_R121_T34JEP_20170101T084543.SAFE/GRANULE/L1C_T34JEP_A007983_20170101T084543/IMG_DATA/T34JEP_20170101T082332_B03.jp2\n",
      "data/S2A_MSIL1C_20170101T082332_N0204_R121_T34JEP_20170101T084543.SAFE/GRANULE/L1C_T34JEP_A007983_20170101T084543/IMG_DATA/T34JEP_20170101T082332_B06.jp2\n",
      "data/S2A_MSIL1C_20170101T082332_N0204_R121_T34JEP_20170101T084543.SAFE/GRANULE/L1C_T34JEP_A007983_20170101T084543/IMG_DATA/T34JEP_20170101T082332_B8A.jp2\n",
      "data/S2A_MSIL1C_20170101T082332_N0204_R121_T34JEP_20170101T084543.SAFE/GRANULE/L1C_T34JEP_A007983_20170101T084543/IMG_DATA/T34JEP_20170101T082332_B10.jp2\n",
      "data/S2A_MSIL1C_20170101T082332_N0204_R121_T34JEP_20170101T084543.SAFE/GRANULE/L1C_T34JEP_A007983_20170101T084543/IMG_DATA/T34JEP_20170101T082332_B08.jp2\n",
      "data/S2A_MSIL1C_20170101T082332_N0204_R121_T34JEP_20170101T084543.SAFE/GRANULE/L1C_T34JEP_A007983_20170101T084543/IMG_DATA/T34JEP_20170101T082332_TCI.jp2\n"
     ]
    }
   ],
   "source": [
    "for dirname, _, filenames in os.walk('data/'+date1_pf1):\n",
    "    for filename in filenames:\n",
    "        print(os.path.join(dirname, filename))"
   ]
  },
  {
   "cell_type": "markdown",
   "metadata": {},
   "source": [
    "## Create mosaic"
   ]
  },
  {
   "cell_type": "code",
   "execution_count": 24,
   "metadata": {},
   "outputs": [],
   "source": [
    "def create_mosaic(fp_bands, sp_bands, date, directory = ''):\n",
    "    \"\"\"\n",
    "    This function creates a mosaic from two raster images and saves it to the directory with the name Mosaic_\"+ date+ \".tiff.\n",
    "    The mosaic will have a number of bands equal to the ones specified in the fp_bands.\n",
    "    fp_bands: list:\n",
    "    list of first raster bands that we use to construct the first raster\n",
    "    sp_bands: list:\n",
    "    list of the second raster bands that we use to construct the second raster\n",
    "    date: string:\n",
    "    the date of the raster, we use it to name the final registered the mosaic\n",
    "    \"\"\"\n",
    "    \n",
    "    if(len(fp_bands) == 0 or len(sp_bands)== 0):\n",
    "        print('There are no bands')\n",
    "        return 0\n",
    "    if(len(fp_bands) != len(sp_bands)):\n",
    "        print('The length of the two bands lists are not equal')\n",
    "        return 0\n",
    "    \n",
    "    ## set the first part of the mosaic image\n",
    "    nb_bands = len(fp_bands)\n",
    "    with rasterio.open(fp_bands[0]) as src0:\n",
    "        fb_meta = src0.meta\n",
    "\n",
    "    fb_meta['driver'] = 'Gtiff'\n",
    "    fb_meta['count'] = nb_bands\n",
    "    \n",
    "    #export true color image\n",
    "    with rasterio.open('first_part.tiff', 'w', **fb_meta) as dst:\n",
    "        for id, layer in enumerate(fp_bands, start=1):\n",
    "            with rasterio.open(layer) as src1:\n",
    "                dst.write(src1.read(1), id)\n",
    "\n",
    "    print('first part completed')\n",
    "    \n",
    "    ## set the second part of the mosaic image\n",
    "\n",
    "    with rasterio.open(sp_bands[0]) as src0:\n",
    "        sb_meta = src0.meta\n",
    "\n",
    "    sb_meta['driver'] = 'Gtiff'\n",
    "    sb_meta['count'] = nb_bands\n",
    "    \n",
    "    #export true color image\n",
    "    with rasterio.open('second_part.tiff', 'w', **sb_meta) as dst:\n",
    "        for id, layer in enumerate(sp_bands, start=1):\n",
    "            with rasterio.open(layer) as src1:\n",
    "                dst.write(src1.read(1), id)\n",
    "    print('second part completed')\n",
    "    \n",
    "    ## Create the mosaic\n",
    "    first_part = rasterio.open(r\"first_part.tiff\", count=nb_bands)\n",
    "    second_part = rasterio.open(r\"second_part.tiff\", count=nb_bands)\n",
    "    os.remove(r\"./first_part.tiff\")\n",
    "    os.remove(r\"./second_part.tiff\")\n",
    "\n",
    "    src_files_to_mosaic = [first_part, second_part]  \n",
    "    mosaic, out_trans = merge(src_files_to_mosaic)\n",
    "    \n",
    "    out_meta = sb_meta.copy()\n",
    "    out_meta.update({\"height\": mosaic.shape[1],\n",
    "                    \"width\": mosaic.shape[2],\n",
    "                    \"transform\": out_trans})\n",
    "\n",
    "    out_fp = os.path.join('mosaics', r\"Mosaic_\"+ date+ \".tiff\")\n",
    "    with rasterio.open(out_fp, \"w\", **out_meta) as dest:\n",
    "        dest.write(mosaic)\n",
    "        \n",
    "        \n",
    "    first_part.close()\n",
    "    second_part.close()\n",
    "    gc.collect()\n",
    "    print('mosaic is created and saved')"
   ]
  },
  {
   "cell_type": "code",
   "execution_count": 25,
   "metadata": {},
   "outputs": [
    {
     "name": "stdout",
     "output_type": "stream",
     "text": [
      "first part completed\n",
      "second part completed\n",
      "mosaic is created and saved\n"
     ]
    }
   ],
   "source": [
    "### 2017-01-01 mosiac\n",
    "\n",
    "parent_path = 'data'\n",
    "\n",
    "raster_01_01_2017_b2_fp = os.path.join(parent_path, 'S2A_MSIL1C_20170101T082332_N0204_R121_T34JEP_20170101T084543.SAFE/GRANULE/L1C_T34JEP_A007983_20170101T084543/IMG_DATA/T34JEP_20170101T082332_B02.jp2')\n",
    "raster_01_01_2017_b3_fp = os.path.join(parent_path, 'S2A_MSIL1C_20170101T082332_N0204_R121_T34JEP_20170101T084543.SAFE/GRANULE/L1C_T34JEP_A007983_20170101T084543/IMG_DATA/T34JEP_20170101T082332_B03.jp2')\n",
    "raster_01_01_2017_b4_fp = os.path.join(parent_path, 'S2A_MSIL1C_20170101T082332_N0204_R121_T34JEP_20170101T084543.SAFE/GRANULE/L1C_T34JEP_A007983_20170101T084543/IMG_DATA/T34JEP_20170101T082332_B04.jp2')\n",
    "raster_01_01_2017_b8_fp = os.path.join(parent_path, 'S2A_MSIL1C_20170101T082332_N0204_R121_T34JEP_20170101T084543.SAFE/GRANULE/L1C_T34JEP_A007983_20170101T084543/IMG_DATA/T34JEP_20170101T082332_B08.jp2')\n",
    "fp_bands = [raster_01_01_2017_b2_fp, raster_01_01_2017_b3_fp, raster_01_01_2017_b4_fp, raster_01_01_2017_b8_fp]\n",
    "\n",
    "\n",
    "raster_01_01_2017_jfp_b2_fp = os.path.join(parent_path, 'S2A_MSIL1C_20170101T082332_N0204_R121_T34JFP_20170101T084543.SAFE/GRANULE/L1C_T34JFP_A007983_20170101T084543/IMG_DATA/T34JFP_20170101T082332_B02.jp2')\n",
    "raster_01_01_2017_jfp_b3_fp = os.path.join(parent_path, 'S2A_MSIL1C_20170101T082332_N0204_R121_T34JFP_20170101T084543.SAFE/GRANULE/L1C_T34JFP_A007983_20170101T084543/IMG_DATA/T34JFP_20170101T082332_B03.jp2')\n",
    "raster_01_01_2017_jfp_b4_fp = os.path.join(parent_path, 'S2A_MSIL1C_20170101T082332_N0204_R121_T34JFP_20170101T084543.SAFE/GRANULE/L1C_T34JFP_A007983_20170101T084543/IMG_DATA/T34JFP_20170101T082332_B04.jp2')\n",
    "raster_01_01_2017_jfp_b8_fp = os.path.join(parent_path, 'S2A_MSIL1C_20170101T082332_N0204_R121_T34JFP_20170101T084543.SAFE/GRANULE/L1C_T34JFP_A007983_20170101T084543/IMG_DATA/T34JFP_20170101T082332_B08.jp2')\n",
    "sp_bands = [raster_01_01_2017_jfp_b2_fp, raster_01_01_2017_jfp_b3_fp, raster_01_01_2017_jfp_b4_fp, raster_01_01_2017_jfp_b8_fp]\n",
    "\n",
    "date = '2017-01-01'\n",
    "create_mosaic(fp_bands, sp_bands, date)"
   ]
  },
  {
   "cell_type": "code",
   "execution_count": 26,
   "metadata": {},
   "outputs": [
    {
     "name": "stdout",
     "output_type": "stream",
     "text": [
      "first part completed\n",
      "second part completed\n",
      "mosaic is created and saved\n"
     ]
    }
   ],
   "source": [
    "### 2017-01-31 mosiac\n",
    "\n",
    "raster_b2_fp = os.path.join(parent_path, 'S2A_MSIL1C_20170131T082151_N0204_R121_T34JEP_20170131T084118.SAFE/GRANULE/L1C_T34JEP_A008412_20170131T084118/IMG_DATA/T34JEP_20170131T082151_B02.jp2')\n",
    "raster_b3_fp = os.path.join(parent_path, 'S2A_MSIL1C_20170131T082151_N0204_R121_T34JEP_20170131T084118.SAFE/GRANULE/L1C_T34JEP_A008412_20170131T084118/IMG_DATA/T34JEP_20170131T082151_B03.jp2')\n",
    "raster_b4_fp = os.path.join(parent_path, 'S2A_MSIL1C_20170131T082151_N0204_R121_T34JEP_20170131T084118.SAFE/GRANULE/L1C_T34JEP_A008412_20170131T084118/IMG_DATA/T34JEP_20170131T082151_B04.jp2')\n",
    "raster_b8_fp = os.path.join(parent_path, 'S2A_MSIL1C_20170131T082151_N0204_R121_T34JEP_20170131T084118.SAFE/GRANULE/L1C_T34JEP_A008412_20170131T084118/IMG_DATA/T34JEP_20170131T082151_B08.jp2')\n",
    "fp_bands = [raster_b2_fp, raster_b3_fp, raster_b4_fp, raster_b8_fp]\n",
    "\n",
    "\n",
    "raster_jfp_b2_fp = os.path.join(parent_path, 'S2A_MSIL1C_20170131T082151_N0204_R121_T34JFP_20170131T084118.SAFE/GRANULE/L1C_T34JFP_A008412_20170131T084118/IMG_DATA/T34JFP_20170131T082151_B02.jp2')\n",
    "raster_jfp_b3_fp = os.path.join(parent_path, 'S2A_MSIL1C_20170131T082151_N0204_R121_T34JFP_20170131T084118.SAFE/GRANULE/L1C_T34JFP_A008412_20170131T084118/IMG_DATA/T34JFP_20170131T082151_B03.jp2')\n",
    "raster_jfp_b4_fp = os.path.join(parent_path, 'S2A_MSIL1C_20170131T082151_N0204_R121_T34JFP_20170131T084118.SAFE/GRANULE/L1C_T34JFP_A008412_20170131T084118/IMG_DATA/T34JFP_20170131T082151_B04.jp2')\n",
    "raster_jfp_b8_fp = os.path.join(parent_path, 'S2A_MSIL1C_20170131T082151_N0204_R121_T34JFP_20170131T084118.SAFE/GRANULE/L1C_T34JFP_A008412_20170131T084118/IMG_DATA/T34JFP_20170131T082151_B08.jp2')\n",
    "sp_bands = [raster_jfp_b2_fp, raster_jfp_b3_fp, raster_jfp_b4_fp, raster_jfp_b8_fp]\n",
    "\n",
    "date = '2017-01-31'\n",
    "create_mosaic(fp_bands, sp_bands, date)"
   ]
  },
  {
   "cell_type": "code",
   "execution_count": 28,
   "metadata": {},
   "outputs": [
    {
     "name": "stdout",
     "output_type": "stream",
     "text": [
      "first part completed\n",
      "second part completed\n",
      "mosaic is created and saved\n"
     ]
    }
   ],
   "source": [
    "### 2017-02-10 mosiac\n",
    "\n",
    "raster_b2_fp = os.path.join(parent_path, 'S2A_MSIL1C_20170210T082051_N0204_R121_T34JEP_20170210T083752.SAFE/GRANULE/L1C_T34JEP_A008555_20170210T083752/IMG_DATA/T34JEP_20170210T082051_B02.jp2')\n",
    "raster_b3_fp = os.path.join(parent_path, 'S2A_MSIL1C_20170210T082051_N0204_R121_T34JEP_20170210T083752.SAFE/GRANULE/L1C_T34JEP_A008555_20170210T083752/IMG_DATA/T34JEP_20170210T082051_B03.jp2')\n",
    "raster_b4_fp = os.path.join(parent_path, 'S2A_MSIL1C_20170210T082051_N0204_R121_T34JEP_20170210T083752.SAFE/GRANULE/L1C_T34JEP_A008555_20170210T083752/IMG_DATA/T34JEP_20170210T082051_B04.jp2')\n",
    "raster_b8_fp = os.path.join(parent_path, 'S2A_MSIL1C_20170210T082051_N0204_R121_T34JEP_20170210T083752.SAFE/GRANULE/L1C_T34JEP_A008555_20170210T083752/IMG_DATA/T34JEP_20170210T082051_B08.jp2')\n",
    "fp_bands = [raster_b2_fp, raster_b3_fp, raster_b4_fp, raster_b8_fp]\n",
    "\n",
    "\n",
    "raster_jfp_b2_fp = os.path.join(parent_path, 'S2A_MSIL1C_20170210T082051_N0204_R121_T34JFP_20170210T083752.SAFE/GRANULE/L1C_T34JFP_A008555_20170210T083752/IMG_DATA/T34JFP_20170210T082051_B02.jp2')\n",
    "raster_jfp_b3_fp = os.path.join(parent_path, 'S2A_MSIL1C_20170210T082051_N0204_R121_T34JFP_20170210T083752.SAFE/GRANULE/L1C_T34JFP_A008555_20170210T083752/IMG_DATA/T34JFP_20170210T082051_B03.jp2')\n",
    "raster_jfp_b4_fp = os.path.join(parent_path, 'S2A_MSIL1C_20170210T082051_N0204_R121_T34JFP_20170210T083752.SAFE/GRANULE/L1C_T34JFP_A008555_20170210T083752/IMG_DATA/T34JFP_20170210T082051_B04.jp2')\n",
    "raster_jfp_b8_fp = os.path.join(parent_path, 'S2A_MSIL1C_20170210T082051_N0204_R121_T34JFP_20170210T083752.SAFE/GRANULE/L1C_T34JFP_A008555_20170210T083752/IMG_DATA/T34JFP_20170210T082051_B08.jp2')\n",
    "sp_bands = [raster_jfp_b2_fp, raster_jfp_b3_fp, raster_jfp_b4_fp, raster_jfp_b8_fp]\n",
    "\n",
    "date = '2017-02-10'\n",
    "create_mosaic(fp_bands, sp_bands, date)"
   ]
  },
  {
   "cell_type": "code",
   "execution_count": 29,
   "metadata": {},
   "outputs": [
    {
     "name": "stdout",
     "output_type": "stream",
     "text": [
      "first part completed\n",
      "second part completed\n",
      "mosaic is created and saved\n"
     ]
    }
   ],
   "source": [
    "### 2017-03-12 mosiac\n",
    "\n",
    "raster_b2_fp = os.path.join(parent_path, 'S2A_MSIL1C_20170312T082001_N0204_R121_T34JEP_20170312T084235.SAFE/GRANULE/L1C_T34JEP_A008984_20170312T084235/IMG_DATA/T34JEP_20170312T082001_B02.jp2')\n",
    "raster_b3_fp = os.path.join(parent_path, 'S2A_MSIL1C_20170312T082001_N0204_R121_T34JEP_20170312T084235.SAFE/GRANULE/L1C_T34JEP_A008984_20170312T084235/IMG_DATA/T34JEP_20170312T082001_B03.jp2')\n",
    "raster_b4_fp = os.path.join(parent_path, 'S2A_MSIL1C_20170312T082001_N0204_R121_T34JEP_20170312T084235.SAFE/GRANULE/L1C_T34JEP_A008984_20170312T084235/IMG_DATA/T34JEP_20170312T082001_B04.jp2')\n",
    "raster_b8_fp = os.path.join(parent_path, 'S2A_MSIL1C_20170312T082001_N0204_R121_T34JEP_20170312T084235.SAFE/GRANULE/L1C_T34JEP_A008984_20170312T084235/IMG_DATA/T34JEP_20170312T082001_B08.jp2')\n",
    "fp_bands = [raster_b2_fp, raster_b3_fp, raster_b4_fp, raster_b8_fp]\n",
    "\n",
    "\n",
    "raster_jfp_b2_fp = os.path.join(parent_path, 'S2A_MSIL1C_20170312T082001_N0204_R121_T34JFP_20170312T084235.SAFE/GRANULE/L1C_T34JFP_A008984_20170312T084235/IMG_DATA/T34JFP_20170312T082001_B02.jp2')\n",
    "raster_jfp_b3_fp = os.path.join(parent_path, 'S2A_MSIL1C_20170312T082001_N0204_R121_T34JFP_20170312T084235.SAFE/GRANULE/L1C_T34JFP_A008984_20170312T084235/IMG_DATA/T34JFP_20170312T082001_B03.jp2')\n",
    "raster_jfp_b4_fp = os.path.join(parent_path, 'S2A_MSIL1C_20170312T082001_N0204_R121_T34JFP_20170312T084235.SAFE/GRANULE/L1C_T34JFP_A008984_20170312T084235/IMG_DATA/T34JFP_20170312T082001_B04.jp2')\n",
    "raster_jfp_b8_fp = os.path.join(parent_path, 'S2A_MSIL1C_20170312T082001_N0204_R121_T34JFP_20170312T084235.SAFE/GRANULE/L1C_T34JFP_A008984_20170312T084235/IMG_DATA/T34JFP_20170312T082001_B08.jp2')\n",
    "sp_bands = [raster_jfp_b2_fp, raster_jfp_b3_fp, raster_jfp_b4_fp, raster_jfp_b8_fp]\n",
    "\n",
    "date = \"2017-03-12\"\n",
    "create_mosaic(fp_bands, sp_bands, date)"
   ]
  },
  {
   "cell_type": "code",
   "execution_count": 30,
   "metadata": {},
   "outputs": [
    {
     "name": "stdout",
     "output_type": "stream",
     "text": [
      "first part completed\n",
      "second part completed\n",
      "mosaic is created and saved\n"
     ]
    }
   ],
   "source": [
    "### 2017-03-22 mosiac\n",
    "\n",
    "raster_b2_fp = os.path.join(parent_path, 'S2A_MSIL1C_20170322T081611_N0204_R121_T34JEP_20170322T084728.SAFE/GRANULE/L1C_T34JEP_A009127_20170322T084728/IMG_DATA/T34JEP_20170322T081611_B02.jp2')\n",
    "raster_b3_fp = os.path.join(parent_path, 'S2A_MSIL1C_20170322T081611_N0204_R121_T34JEP_20170322T084728.SAFE/GRANULE/L1C_T34JEP_A009127_20170322T084728/IMG_DATA/T34JEP_20170322T081611_B03.jp2')\n",
    "raster_b4_fp = os.path.join(parent_path, 'S2A_MSIL1C_20170322T081611_N0204_R121_T34JEP_20170322T084728.SAFE/GRANULE/L1C_T34JEP_A009127_20170322T084728/IMG_DATA/T34JEP_20170322T081611_B04.jp2')\n",
    "raster_b8_fp = os.path.join(parent_path, 'S2A_MSIL1C_20170322T081611_N0204_R121_T34JEP_20170322T084728.SAFE/GRANULE/L1C_T34JEP_A009127_20170322T084728/IMG_DATA/T34JEP_20170322T081611_B08.jp2')\n",
    "fp_bands = [raster_b2_fp, raster_b3_fp, raster_b4_fp, raster_b8_fp]\n",
    "\n",
    "\n",
    "raster_jfp_b2_fp = os.path.join(parent_path, 'S2A_MSIL1C_20170322T081611_N0204_R121_T34JFP_20170322T084728.SAFE/GRANULE/L1C_T34JFP_A009127_20170322T084728/IMG_DATA/T34JFP_20170322T081611_B02.jp2')\n",
    "raster_jfp_b3_fp = os.path.join(parent_path, 'S2A_MSIL1C_20170322T081611_N0204_R121_T34JFP_20170322T084728.SAFE/GRANULE/L1C_T34JFP_A009127_20170322T084728/IMG_DATA/T34JFP_20170322T081611_B03.jp2')\n",
    "raster_jfp_b4_fp = os.path.join(parent_path, 'S2A_MSIL1C_20170322T081611_N0204_R121_T34JFP_20170322T084728.SAFE/GRANULE/L1C_T34JFP_A009127_20170322T084728/IMG_DATA/T34JFP_20170322T081611_B04.jp2')\n",
    "raster_jfp_b8_fp = os.path.join(parent_path, 'S2A_MSIL1C_20170322T081611_N0204_R121_T34JFP_20170322T084728.SAFE/GRANULE/L1C_T34JFP_A009127_20170322T084728/IMG_DATA/T34JFP_20170322T081611_B05.jp2')\n",
    "sp_bands = [raster_jfp_b2_fp, raster_jfp_b3_fp, raster_jfp_b4_fp, raster_jfp_b8_fp]\n",
    "\n",
    "date = \"2017-03-22\"\n",
    "create_mosaic(fp_bands, sp_bands, date)"
   ]
  },
  {
   "cell_type": "code",
   "execution_count": 31,
   "metadata": {},
   "outputs": [
    {
     "name": "stdout",
     "output_type": "stream",
     "text": [
      "first part completed\n",
      "second part completed\n",
      "mosaic is created and saved\n"
     ]
    }
   ],
   "source": [
    "## 2017-05-31 mosiac\n",
    "\n",
    "raster_b2_fp = os.path.join(parent_path, 'S2A_MSIL1C_20170531T082011_N0205_R121_T34JEP_20170531T084246.SAFE/GRANULE/L1C_T34JEP_A010128_20170531T084246/IMG_DATA/T34JEP_20170531T082011_B02.jp2')\n",
    "raster_b3_fp = os.path.join(parent_path, 'S2A_MSIL1C_20170531T082011_N0205_R121_T34JEP_20170531T084246.SAFE/GRANULE/L1C_T34JEP_A010128_20170531T084246/IMG_DATA/T34JEP_20170531T082011_B03.jp2')\n",
    "raster_b4_fp = os.path.join(parent_path, 'S2A_MSIL1C_20170531T082011_N0205_R121_T34JEP_20170531T084246.SAFE/GRANULE/L1C_T34JEP_A010128_20170531T084246/IMG_DATA/T34JEP_20170531T082011_B04.jp2')\n",
    "raster_b8_fp = os.path.join(parent_path, 'S2A_MSIL1C_20170531T082011_N0205_R121_T34JEP_20170531T084246.SAFE/GRANULE/L1C_T34JEP_A010128_20170531T084246/IMG_DATA/T34JEP_20170531T082011_B08.jp2')\n",
    "fp_bands = [raster_b2_fp, raster_b3_fp, raster_b4_fp, raster_b8_fp]\n",
    "\n",
    "\n",
    "raster_jfp_b2_fp = os.path.join(parent_path, 'S2A_MSIL1C_20170531T082011_N0205_R121_T34JFP_20170531T084246.SAFE/GRANULE/L1C_T34JFP_A010128_20170531T084246/IMG_DATA/T34JFP_20170531T082011_B02.jp2')\n",
    "raster_jfp_b3_fp = os.path.join(parent_path, 'S2A_MSIL1C_20170531T082011_N0205_R121_T34JFP_20170531T084246.SAFE/GRANULE/L1C_T34JFP_A010128_20170531T084246/IMG_DATA/T34JFP_20170531T082011_B03.jp2')\n",
    "raster_jfp_b4_fp = os.path.join(parent_path, 'S2A_MSIL1C_20170531T082011_N0205_R121_T34JFP_20170531T084246.SAFE/GRANULE/L1C_T34JFP_A010128_20170531T084246/IMG_DATA/T34JFP_20170531T082011_B04.jp2')\n",
    "raster_jfp_b8_fp = os.path.join(parent_path, 'S2A_MSIL1C_20170531T082011_N0205_R121_T34JFP_20170531T084246.SAFE/GRANULE/L1C_T34JFP_A010128_20170531T084246/IMG_DATA/T34JFP_20170531T082011_B08.jp2')\n",
    "sp_bands = [raster_jfp_b2_fp, raster_jfp_b3_fp, raster_jfp_b4_fp, raster_jfp_b8_fp]\n",
    "\n",
    "date = \"2017-05-31\"\n",
    "create_mosaic(fp_bands, sp_bands, date)"
   ]
  },
  {
   "cell_type": "code",
   "execution_count": 32,
   "metadata": {},
   "outputs": [
    {
     "name": "stdout",
     "output_type": "stream",
     "text": [
      "first part completed\n",
      "second part completed\n",
      "mosaic is created and saved\n"
     ]
    }
   ],
   "source": [
    "## 2017-06-20 mosiac\n",
    "\n",
    "raster_b2_fp = os.path.join(parent_path, 'S2A_MSIL1C_20170620T082011_N0205_R121_T34JEP_20170620T084200.SAFE/GRANULE/L1C_T34JEP_A010414_20170620T084200/IMG_DATA/T34JEP_20170620T082011_B02.jp2')\n",
    "raster_b3_fp = os.path.join(parent_path, 'S2A_MSIL1C_20170620T082011_N0205_R121_T34JEP_20170620T084200.SAFE/GRANULE/L1C_T34JEP_A010414_20170620T084200/IMG_DATA/T34JEP_20170620T082011_B03.jp2')\n",
    "raster_b4_fp = os.path.join(parent_path, 'S2A_MSIL1C_20170620T082011_N0205_R121_T34JEP_20170620T084200.SAFE/GRANULE/L1C_T34JEP_A010414_20170620T084200/IMG_DATA/T34JEP_20170620T082011_B04.jp2')\n",
    "raster_b8_fp = os.path.join(parent_path, 'S2A_MSIL1C_20170620T082011_N0205_R121_T34JEP_20170620T084200.SAFE/GRANULE/L1C_T34JEP_A010414_20170620T084200/IMG_DATA/T34JEP_20170620T082011_B08.jp2')\n",
    "fp_bands = [raster_b2_fp, raster_b3_fp, raster_b4_fp, raster_b8_fp]\n",
    "\n",
    "\n",
    "raster_jfp_b2_fp = os.path.join(parent_path, 'S2A_MSIL1C_20170620T082011_N0205_R121_T34JFP_20170620T084200.SAFE/GRANULE/L1C_T34JFP_A010414_20170620T084200/IMG_DATA/T34JFP_20170620T082011_B02.jp2')\n",
    "raster_jfp_b3_fp = os.path.join(parent_path, 'S2A_MSIL1C_20170620T082011_N0205_R121_T34JFP_20170620T084200.SAFE/GRANULE/L1C_T34JFP_A010414_20170620T084200/IMG_DATA/T34JFP_20170620T082011_B03.jp2')\n",
    "raster_jfp_b4_fp = os.path.join(parent_path, 'S2A_MSIL1C_20170620T082011_N0205_R121_T34JFP_20170620T084200.SAFE/GRANULE/L1C_T34JFP_A010414_20170620T084200/IMG_DATA/T34JFP_20170620T082011_B04.jp2')\n",
    "raster_jfp_b8_fp = os.path.join(parent_path, 'S2A_MSIL1C_20170620T082011_N0205_R121_T34JFP_20170620T084200.SAFE/GRANULE/L1C_T34JFP_A010414_20170620T084200/IMG_DATA/T34JFP_20170620T082011_B08.jp2')\n",
    "sp_bands = [raster_jfp_b2_fp, raster_jfp_b3_fp, raster_jfp_b4_fp, raster_jfp_b8_fp]\n",
    "\n",
    "date = \"2017-06-20\"\n",
    "create_mosaic(fp_bands, sp_bands, date)"
   ]
  },
  {
   "cell_type": "code",
   "execution_count": 33,
   "metadata": {},
   "outputs": [
    {
     "name": "stdout",
     "output_type": "stream",
     "text": [
      "first part completed\n",
      "second part completed\n",
      "mosaic is created and saved\n"
     ]
    }
   ],
   "source": [
    "## 2017-07-10 mosiac\n",
    "\n",
    "raster_b2_fp = os.path.join(parent_path, 'S2A_MSIL1C_20170710T082011_N0205_R121_T34JEP_20170710T084244.SAFE/GRANULE/L1C_T34JEP_A010700_20170710T084244/IMG_DATA/T34JEP_20170710T082011_B02.jp2')\n",
    "raster_b3_fp = os.path.join(parent_path, 'S2A_MSIL1C_20170710T082011_N0205_R121_T34JEP_20170710T084244.SAFE/GRANULE/L1C_T34JEP_A010700_20170710T084244/IMG_DATA/T34JEP_20170710T082011_B03.jp2')\n",
    "raster_b4_fp = os.path.join(parent_path, 'S2A_MSIL1C_20170710T082011_N0205_R121_T34JEP_20170710T084244.SAFE/GRANULE/L1C_T34JEP_A010700_20170710T084244/IMG_DATA/T34JEP_20170710T082011_B04.jp2')\n",
    "raster_b8_fp = os.path.join(parent_path, 'S2A_MSIL1C_20170710T082011_N0205_R121_T34JEP_20170710T084244.SAFE/GRANULE/L1C_T34JEP_A010700_20170710T084244/IMG_DATA/T34JEP_20170710T082011_B08.jp2')\n",
    "fp_bands = [raster_b2_fp, raster_b3_fp, raster_b4_fp, raster_b8_fp]\n",
    "\n",
    "\n",
    "raster_jfp_b2_fp = os.path.join(parent_path, 'S2A_MSIL1C_20170710T082011_N0205_R121_T34JFP_20170710T084244.SAFE/GRANULE/L1C_T34JFP_A010700_20170710T084244/IMG_DATA/T34JFP_20170710T082011_B02.jp2')\n",
    "raster_jfp_b3_fp = os.path.join(parent_path, 'S2A_MSIL1C_20170710T082011_N0205_R121_T34JFP_20170710T084244.SAFE/GRANULE/L1C_T34JFP_A010700_20170710T084244/IMG_DATA/T34JFP_20170710T082011_B03.jp2')\n",
    "raster_jfp_b4_fp = os.path.join(parent_path, 'S2A_MSIL1C_20170710T082011_N0205_R121_T34JFP_20170710T084244.SAFE/GRANULE/L1C_T34JFP_A010700_20170710T084244/IMG_DATA/T34JFP_20170710T082011_B04.jp2')\n",
    "raster_jfp_b8_fp = os.path.join(parent_path, 'S2A_MSIL1C_20170710T082011_N0205_R121_T34JFP_20170710T084244.SAFE/GRANULE/L1C_T34JFP_A010700_20170710T084244/IMG_DATA/T34JFP_20170710T082011_B08.jp2')\n",
    "sp_bands = [raster_jfp_b2_fp, raster_jfp_b3_fp, raster_jfp_b4_fp, raster_jfp_b8_fp]\n",
    "\n",
    "date = \"2017-07-10\"\n",
    "create_mosaic(fp_bands, sp_bands, date)"
   ]
  },
  {
   "cell_type": "code",
   "execution_count": 34,
   "metadata": {},
   "outputs": [
    {
     "name": "stdout",
     "output_type": "stream",
     "text": [
      "first part completed\n",
      "second part completed\n",
      "mosaic is created and saved\n"
     ]
    }
   ],
   "source": [
    "## 2017-07-15 mosiac\n",
    "\n",
    "raster_b2_fp = os.path.join(parent_path, 'S2B_MSIL1C_20170715T081609_N0205_R121_T34JEP_20170715T084650.SAFE/GRANULE/L1C_T34JEP_A001863_20170715T084650/IMG_DATA/T34JEP_20170715T081609_B02.jp2')\n",
    "raster_b3_fp = os.path.join(parent_path, 'S2B_MSIL1C_20170715T081609_N0205_R121_T34JEP_20170715T084650.SAFE/GRANULE/L1C_T34JEP_A001863_20170715T084650/IMG_DATA/T34JEP_20170715T081609_B03.jp2')\n",
    "raster_b4_fp = os.path.join(parent_path, 'S2B_MSIL1C_20170715T081609_N0205_R121_T34JEP_20170715T084650.SAFE/GRANULE/L1C_T34JEP_A001863_20170715T084650/IMG_DATA/T34JEP_20170715T081609_B04.jp2')\n",
    "raster_b8_fp = os.path.join(parent_path, 'S2B_MSIL1C_20170715T081609_N0205_R121_T34JEP_20170715T084650.SAFE/GRANULE/L1C_T34JEP_A001863_20170715T084650/IMG_DATA/T34JEP_20170715T081609_B08.jp2')\n",
    "fp_bands = [raster_b2_fp, raster_b3_fp, raster_b4_fp, raster_b8_fp]\n",
    "\n",
    "\n",
    "raster_jfp_b2_fp = os.path.join(parent_path, 'S2B_MSIL1C_20170715T081609_N0205_R121_T34JFP_20170715T084650.SAFE/GRANULE/L1C_T34JFP_A001863_20170715T084650/IMG_DATA/T34JFP_20170715T081609_B02.jp2')\n",
    "raster_jfp_b3_fp = os.path.join(parent_path, 'S2B_MSIL1C_20170715T081609_N0205_R121_T34JFP_20170715T084650.SAFE/GRANULE/L1C_T34JFP_A001863_20170715T084650/IMG_DATA/T34JFP_20170715T081609_B03.jp2')\n",
    "raster_jfp_b4_fp = os.path.join(parent_path, 'S2B_MSIL1C_20170715T081609_N0205_R121_T34JFP_20170715T084650.SAFE/GRANULE/L1C_T34JFP_A001863_20170715T084650/IMG_DATA/T34JFP_20170715T081609_B04.jp2')\n",
    "raster_jfp_b8_fp = os.path.join(parent_path, 'S2B_MSIL1C_20170715T081609_N0205_R121_T34JFP_20170715T084650.SAFE/GRANULE/L1C_T34JFP_A001863_20170715T084650/IMG_DATA/T34JFP_20170715T081609_B08.jp2')\n",
    "sp_bands = [raster_jfp_b2_fp, raster_jfp_b3_fp, raster_jfp_b4_fp, raster_jfp_b8_fp]\n",
    "\n",
    "date = \"2017-07-15\"\n",
    "create_mosaic(fp_bands, sp_bands, date)"
   ]
  },
  {
   "cell_type": "code",
   "execution_count": 35,
   "metadata": {},
   "outputs": [
    {
     "name": "stdout",
     "output_type": "stream",
     "text": [
      "first part completed\n",
      "second part completed\n",
      "mosaic is created and saved\n"
     ]
    }
   ],
   "source": [
    "## 2017-08-04 mosiac\n",
    "\n",
    "raster_b2_fp = os.path.join(parent_path, 'S2B_MSIL1C_20170804T081559_N0205_R121_T34JEP_20170804T084631.SAFE/GRANULE/L1C_T34JEP_A002149_20170804T084631/IMG_DATA/T34JEP_20170804T081559_B02.jp2')\n",
    "raster_b3_fp = os.path.join(parent_path, 'S2B_MSIL1C_20170804T081559_N0205_R121_T34JEP_20170804T084631.SAFE/GRANULE/L1C_T34JEP_A002149_20170804T084631/IMG_DATA/T34JEP_20170804T081559_B03.jp2')\n",
    "raster_b4_fp = os.path.join(parent_path, 'S2B_MSIL1C_20170804T081559_N0205_R121_T34JEP_20170804T084631.SAFE/GRANULE/L1C_T34JEP_A002149_20170804T084631/IMG_DATA/T34JEP_20170804T081559_B04.jp2')\n",
    "raster_b8_fp = os.path.join(parent_path, 'S2B_MSIL1C_20170804T081559_N0205_R121_T34JEP_20170804T084631.SAFE/GRANULE/L1C_T34JEP_A002149_20170804T084631/IMG_DATA/T34JEP_20170804T081559_B08.jp2')\n",
    "fp_bands = [raster_b2_fp, raster_b3_fp, raster_b4_fp, raster_b8_fp]\n",
    "\n",
    "\n",
    "raster_jfp_b2_fp = os.path.join(parent_path, 'S2B_MSIL1C_20170804T081559_N0205_R121_T34JFP_20170804T084631.SAFE/GRANULE/L1C_T34JFP_A002149_20170804T084631/IMG_DATA/T34JFP_20170804T081559_B02.jp2')\n",
    "raster_jfp_b3_fp = os.path.join(parent_path, 'S2B_MSIL1C_20170804T081559_N0205_R121_T34JFP_20170804T084631.SAFE/GRANULE/L1C_T34JFP_A002149_20170804T084631/IMG_DATA/T34JFP_20170804T081559_B03.jp2')\n",
    "raster_jfp_b4_fp = os.path.join(parent_path, 'S2B_MSIL1C_20170804T081559_N0205_R121_T34JFP_20170804T084631.SAFE/GRANULE/L1C_T34JFP_A002149_20170804T084631/IMG_DATA/T34JFP_20170804T081559_B04.jp2')\n",
    "raster_jfp_b8_fp = os.path.join(parent_path, 'S2B_MSIL1C_20170804T081559_N0205_R121_T34JFP_20170804T084631.SAFE/GRANULE/L1C_T34JFP_A002149_20170804T084631/IMG_DATA/T34JFP_20170804T081559_B08.jp2')\n",
    "sp_bands = [raster_jfp_b2_fp, raster_jfp_b3_fp, raster_jfp_b4_fp, raster_jfp_b8_fp]\n",
    "\n",
    "date = \"2017-08-04\"\n",
    "create_mosaic(fp_bands, sp_bands, date)"
   ]
  },
  {
   "cell_type": "code",
   "execution_count": null,
   "metadata": {},
   "outputs": [
    {
     "name": "stdout",
     "output_type": "stream",
     "text": [
      "first part completed\n"
     ]
    }
   ],
   "source": [
    "## 2017-08-19 mosiac\n",
    "\n",
    "raster_b2_fp = os.path.join(parent_path, 'S2A_MSIL1C_20170819T082011_N0205_R121_T34JEP_20170819T084427.SAFE/GRANULE/L1C_T34JEP_A011272_20170819T084427/IMG_DATA/T34JEP_20170819T082011_B02.jp2')\n",
    "raster_b3_fp = os.path.join(parent_path, 'S2A_MSIL1C_20170819T082011_N0205_R121_T34JEP_20170819T084427.SAFE/GRANULE/L1C_T34JEP_A011272_20170819T084427/IMG_DATA/T34JEP_20170819T082011_B03.jp2')\n",
    "raster_b4_fp = os.path.join(parent_path, 'S2A_MSIL1C_20170819T082011_N0205_R121_T34JEP_20170819T084427.SAFE/GRANULE/L1C_T34JEP_A011272_20170819T084427/IMG_DATA/T34JEP_20170819T082011_B04.jp2')\n",
    "raster_b8_fp = os.path.join(parent_path, 'S2A_MSIL1C_20170819T082011_N0205_R121_T34JEP_20170819T084427.SAFE/GRANULE/L1C_T34JEP_A011272_20170819T084427/IMG_DATA/T34JEP_20170819T082011_B08.jp2')\n",
    "fp_bands = [raster_b2_fp, raster_b3_fp, raster_b4_fp, raster_b8_fp]\n",
    "\n",
    "\n",
    "raster_jfp_b2_fp = os.path.join(parent_path, 'S2A_MSIL1C_20170819T082011_N0205_R121_T34JFP_20170819T084427.SAFE/GRANULE/L1C_T34JFP_A011272_20170819T084427/IMG_DATA/T34JFP_20170819T082011_B02.jp2')\n",
    "raster_jfp_b3_fp = os.path.join(parent_path, 'S2A_MSIL1C_20170819T082011_N0205_R121_T34JFP_20170819T084427.SAFE/GRANULE/L1C_T34JFP_A011272_20170819T084427/IMG_DATA/T34JFP_20170819T082011_B03.jp2')\n",
    "raster_jfp_b4_fp = os.path.join(parent_path, 'S2A_MSIL1C_20170819T082011_N0205_R121_T34JFP_20170819T084427.SAFE/GRANULE/L1C_T34JFP_A011272_20170819T084427/IMG_DATA/T34JFP_20170819T082011_B04.jp2')\n",
    "raster_jfp_b8_fp = os.path.join(parent_path, 'S2A_MSIL1C_20170819T082011_N0205_R121_T34JFP_20170819T084427.SAFE/GRANULE/L1C_T34JFP_A011272_20170819T084427/IMG_DATA/T34JFP_20170819T082011_B08.jp2')\n",
    "sp_bands = [raster_jfp_b2_fp, raster_jfp_b3_fp, raster_jfp_b4_fp, raster_jfp_b8_fp]\n",
    "\n",
    "date = \"2017-08-19\"\n",
    "create_mosaic(fp_bands, sp_bands, date)"
   ]
  },
  {
   "cell_type": "code",
   "execution_count": null,
   "metadata": {},
   "outputs": [],
   "source": []
  },
  {
   "cell_type": "code",
   "execution_count": null,
   "metadata": {},
   "outputs": [],
   "source": [
    "train_fe['area'] = train_fe['geometry'].area\n",
    "train_fe['centroid'] = train_fe['geometry'].centroid\n",
    "test_fe['area'] = test_fe['geometry'].area\n",
    "test_fe['centroid'] = test_fe['geometry'].centroid"
   ]
  }
 ],
 "metadata": {
  "kernelspec": {
   "display_name": "Python 3.5",
   "language": "python",
   "name": "python3"
  },
  "language_info": {
   "codemirror_mode": {
    "name": "ipython",
    "version": 3
   },
   "file_extension": ".py",
   "mimetype": "text/x-python",
   "name": "python",
   "nbconvert_exporter": "python",
   "pygments_lexer": "ipython3",
   "version": "3.5.5"
  }
 },
 "nbformat": 4,
 "nbformat_minor": 2
}
